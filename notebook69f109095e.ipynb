{
  "metadata": {
    "kernelspec": {
      "name": "python3",
      "display_name": "Python 3",
      "language": "python"
    },
    "language_info": {
      "name": "python",
      "version": "3.10.12",
      "mimetype": "text/x-python",
      "codemirror_mode": {
        "name": "ipython",
        "version": 3
      },
      "pygments_lexer": "ipython3",
      "nbconvert_exporter": "python",
      "file_extension": ".py"
    },
    "colab": {
      "provenance": [],
      "gpuType": "T4",
      "name": "notebook69f109095e",
      "include_colab_link": true
    },
    "accelerator": "GPU",
    "kaggle": {
      "accelerator": "nvidiaTeslaT4",
      "dataSources": [],
      "dockerImageVersionId": 30886,
      "isInternetEnabled": false,
      "language": "python",
      "sourceType": "notebook",
      "isGpuEnabled": true
    }
  },
  "nbformat_minor": 0,
  "nbformat": 4,
  "cells": [
    {
      "cell_type": "markdown",
      "metadata": {
        "id": "view-in-github",
        "colab_type": "text"
      },
      "source": [
        "<a href=\"https://colab.research.google.com/github/meowthisisacat/sign-language-detection-using-yolo-v5/blob/main/notebook69f109095e.ipynb\" target=\"_parent\"><img src=\"https://colab.research.google.com/assets/colab-badge.svg\" alt=\"Open In Colab\"/></a>"
      ]
    },
    {
      "cell_type": "code",
      "source": [
        "!git clone https://github.com/ultralytics/yolov5.git"
      ],
      "metadata": {
        "id": "onUxbuFyL_lO",
        "trusted": true,
        "execution": {
          "iopub.status.busy": "2025-02-08T10:52:44.903492Z",
          "iopub.execute_input": "2025-02-08T10:52:44.903757Z",
          "iopub.status.idle": "2025-02-08T10:52:46.574274Z",
          "shell.execute_reply.started": "2025-02-08T10:52:44.903738Z",
          "shell.execute_reply": "2025-02-08T10:52:46.573247Z"
        }
      },
      "outputs": [],
      "execution_count": null
    },
    {
      "cell_type": "code",
      "source": [
        "!pip install gdown"
      ],
      "metadata": {
        "trusted": true,
        "execution": {
          "iopub.status.busy": "2025-02-08T10:48:55.203872Z",
          "iopub.execute_input": "2025-02-08T10:48:55.204289Z",
          "iopub.status.idle": "2025-02-08T10:48:59.347746Z",
          "shell.execute_reply.started": "2025-02-08T10:48:55.204253Z",
          "shell.execute_reply": "2025-02-08T10:48:59.346486Z"
        },
        "id": "MuEvRakROQf8"
      },
      "outputs": [],
      "execution_count": null
    },
    {
      "cell_type": "code",
      "source": [
        "import gdown\n",
        "url = 'https://drive.google.com/uc?id=1fLtnCkoM7pK3XTYzFFioeYdhzTUlMizw'\n",
        "output = 'merged.v4i.yolov5pytorch.zip'\n",
        "gdown.download(url, output)"
      ],
      "metadata": {
        "id": "ybbAxgvHTJPD",
        "trusted": true,
        "execution": {
          "iopub.status.busy": "2025-02-08T10:52:00.336816Z",
          "iopub.execute_input": "2025-02-08T10:52:00.337107Z",
          "iopub.status.idle": "2025-02-08T10:52:26.160645Z",
          "shell.execute_reply.started": "2025-02-08T10:52:00.337076Z",
          "shell.execute_reply": "2025-02-08T10:52:26.159921Z"
        }
      },
      "outputs": [],
      "execution_count": null
    },
    {
      "cell_type": "code",
      "source": [
        "\n",
        "%pwd\n"
      ],
      "metadata": {
        "id": "XzeYLY-zTS4i",
        "trusted": true,
        "execution": {
          "iopub.status.busy": "2025-02-08T10:42:29.551762Z",
          "iopub.execute_input": "2025-02-08T10:42:29.552113Z",
          "iopub.status.idle": "2025-02-08T10:42:29.559467Z",
          "shell.execute_reply.started": "2025-02-08T10:42:29.552088Z",
          "shell.execute_reply": "2025-02-08T10:42:29.558574Z"
        }
      },
      "outputs": [],
      "execution_count": null
    },
    {
      "cell_type": "code",
      "source": [
        "\n",
        "%cd yolov5\n"
      ],
      "metadata": {
        "id": "Hx5Btpx_TYe_",
        "trusted": true,
        "execution": {
          "iopub.status.busy": "2025-02-08T10:52:52.574459Z",
          "iopub.execute_input": "2025-02-08T10:52:52.574802Z",
          "iopub.status.idle": "2025-02-08T10:52:52.580262Z",
          "shell.execute_reply.started": "2025-02-08T10:52:52.574773Z",
          "shell.execute_reply": "2025-02-08T10:52:52.579528Z"
        }
      },
      "outputs": [],
      "execution_count": null
    },
    {
      "cell_type": "code",
      "source": [
        "\n",
        "# install dependencies as necessary\n",
        "!pip install -r requirements.txt  # install dependencies (ignore errors)\n",
        "import torch\n",
        "\n",
        "from IPython.display import Image, clear_output  # to display images\n",
        "# from utils.google_utils import gdrive_download  # to download models/datasets\n",
        "\n",
        "# clear_output()\n",
        "print('Setup complete. Using torch %s %s' % (torch.__version__, torch.cuda.get_device_properties(0) if torch.cuda.is_available() else 'CPU'))"
      ],
      "metadata": {
        "id": "S1L2vHh4TcVk",
        "trusted": true,
        "execution": {
          "iopub.status.busy": "2025-02-08T10:53:01.801239Z",
          "iopub.execute_input": "2025-02-08T10:53:01.801537Z",
          "iopub.status.idle": "2025-02-08T10:53:10.308736Z",
          "shell.execute_reply.started": "2025-02-08T10:53:01.801517Z",
          "shell.execute_reply": "2025-02-08T10:53:10.307954Z"
        }
      },
      "outputs": [],
      "execution_count": null
    },
    {
      "cell_type": "code",
      "source": [
        "import zipfile\n",
        "\n",
        "zip_path=\"/kaggle/working/merged.v4i.yolov5pytorch.zip\"\n",
        "zip_extract=\"/kaggle/working/sign_language_dataset\"\n",
        "\n",
        "with zipfile.ZipFile(zip_path, 'r') as zip_ref:\n",
        "    zip_ref.extractall(zip_extract)"
      ],
      "metadata": {
        "id": "LipvPcyQYqZl",
        "trusted": true,
        "execution": {
          "iopub.status.busy": "2025-02-08T10:54:29.294756Z",
          "iopub.execute_input": "2025-02-08T10:54:29.295276Z",
          "iopub.status.idle": "2025-02-08T10:54:37.312397Z",
          "shell.execute_reply.started": "2025-02-08T10:54:29.295249Z",
          "shell.execute_reply": "2025-02-08T10:54:37.311702Z"
        }
      },
      "outputs": [],
      "execution_count": null
    },
    {
      "cell_type": "code",
      "source": [
        "%cd ..\n",
        "%cd sign_language_dataset\n",
        "!ls\n"
      ],
      "metadata": {
        "id": "r9FZf7fZpec8",
        "trusted": true,
        "execution": {
          "iopub.status.busy": "2025-02-08T10:56:18.907747Z",
          "iopub.execute_input": "2025-02-08T10:56:18.908122Z",
          "iopub.status.idle": "2025-02-08T10:56:19.037304Z",
          "shell.execute_reply.started": "2025-02-08T10:56:18.908096Z",
          "shell.execute_reply": "2025-02-08T10:56:19.036371Z"
        }
      },
      "outputs": [],
      "execution_count": null
    },
    {
      "cell_type": "code",
      "source": [
        "%cat data.yaml"
      ],
      "metadata": {
        "id": "rENO5kpqR5_z"
      },
      "outputs": [],
      "execution_count": null
    },
    {
      "cell_type": "code",
      "source": [
        "import yaml\n",
        "with open(\"data.yaml\", 'r') as stream:\n",
        "    num_classes = str(yaml.safe_load(stream)['nc'])"
      ],
      "metadata": {
        "id": "LzI3j9XNXx3U",
        "trusted": true,
        "execution": {
          "iopub.status.busy": "2025-02-08T10:56:23.904088Z",
          "iopub.execute_input": "2025-02-08T10:56:23.904399Z",
          "iopub.status.idle": "2025-02-08T10:56:23.929515Z",
          "shell.execute_reply.started": "2025-02-08T10:56:23.904376Z",
          "shell.execute_reply": "2025-02-08T10:56:23.928888Z"
        }
      },
      "outputs": [],
      "execution_count": null
    },
    {
      "cell_type": "code",
      "source": [
        "\n",
        "num_classes"
      ],
      "metadata": {
        "id": "R1e1T_BrqkRD",
        "trusted": true,
        "execution": {
          "iopub.status.busy": "2025-02-08T10:56:27.230405Z",
          "iopub.execute_input": "2025-02-08T10:56:27.230728Z",
          "iopub.status.idle": "2025-02-08T10:56:27.236138Z",
          "shell.execute_reply.started": "2025-02-08T10:56:27.230702Z",
          "shell.execute_reply": "2025-02-08T10:56:27.235294Z"
        }
      },
      "outputs": [],
      "execution_count": null
    },
    {
      "cell_type": "code",
      "source": [
        "%cat /content/yolov5/models/yolov5s.yaml"
      ],
      "metadata": {
        "id": "SdAjW1y7qn8U"
      },
      "outputs": [],
      "execution_count": null
    },
    {
      "cell_type": "code",
      "source": [
        "#customize iPython writefile so we can write variables\n",
        "from IPython.core.magic import register_line_cell_magic\n",
        "\n",
        "@register_line_cell_magic\n",
        "def writetemplate(line, cell):\n",
        "    with open(line, 'w') as f:\n",
        "        f.write(cell.format(**globals()))"
      ],
      "metadata": {
        "id": "otXat6ESrsli",
        "trusted": true,
        "execution": {
          "iopub.status.busy": "2025-02-08T10:56:42.284241Z",
          "iopub.execute_input": "2025-02-08T10:56:42.284636Z",
          "iopub.status.idle": "2025-02-08T10:56:42.289455Z",
          "shell.execute_reply.started": "2025-02-08T10:56:42.284596Z",
          "shell.execute_reply": "2025-02-08T10:56:42.288543Z"
        }
      },
      "outputs": [],
      "execution_count": null
    },
    {
      "cell_type": "code",
      "source": [
        "%%writetemplate /kaggle/working/yolov5/models/custom_yolov5s.yaml\n",
        "\n",
        "# parameters\n",
        "nc: {num_classes}  # number of classes\n",
        "depth_multiple: 0.33  # model depth multiple\n",
        "width_multiple: 0.50  # layer channel multiple\n",
        "\n",
        "# anchors\n",
        "anchors:\n",
        "  - [10,13, 16,30, 33,23]  # P3/8\n",
        "  - [30,61, 62,45, 59,119]  # P4/16\n",
        "  - [116,90, 156,198, 373,326]  # P5/32\n",
        "\n",
        "# YOLOv5 backbone\n",
        "backbone:\n",
        "  # [from, number, module, args]\n",
        "  [[-1, 1, Focus, [64, 3]],  # 0-P1/2\n",
        "   [-1, 1, Conv, [128, 3, 2]],  # 1-P2/4\n",
        "   [-1, 3, BottleneckCSP, [128]],\n",
        "   [-1, 1, Conv, [256, 3, 2]],  # 3-P3/8\n",
        "   [-1, 9, BottleneckCSP, [256]],\n",
        "   [-1, 1, Conv, [512, 3, 2]],  # 5-P4/16\n",
        "   [-1, 9, BottleneckCSP, [512]],\n",
        "   [-1, 1, Conv, [1024, 3, 2]],  # 7-P5/32\n",
        "   [-1, 1, SPP, [1024, [5, 9, 13]]],\n",
        "   [-1, 3, BottleneckCSP, [1024, False]],  # 9\n",
        "  ]\n",
        "\n",
        "# YOLOv5 head\n",
        "head:\n",
        "  [[-1, 1, Conv, [512, 1, 1]],\n",
        "   [-1, 1, nn.Upsample, [None, 2, 'nearest']],\n",
        "   [[-1, 6], 1, Concat, [1]],  # cat backbone P4\n",
        "   [-1, 3, BottleneckCSP, [512, False]],  # 13\n",
        "\n",
        "   [-1, 1, Conv, [256, 1, 1]],\n",
        "   [-1, 1, nn.Upsample, [None, 2, 'nearest']],\n",
        "   [[-1, 4], 1, Concat, [1]],  # cat backbone P3\n",
        "   [-1, 3, BottleneckCSP, [256, False]],  # 17 (P3/8-small)\n",
        "\n",
        "   [-1, 1, Conv, [256, 3, 2]],\n",
        "   [[-1, 14], 1, Concat, [1]],  # cat head P4\n",
        "   [-1, 3, BottleneckCSP, [512, False]],  # 20 (P4/16-medium)\n",
        "\n",
        "   [-1, 1, Conv, [512, 3, 2]],\n",
        "   [[-1, 10], 1, Concat, [1]],  # cat head P5\n",
        "   [-1, 3, BottleneckCSP, [1024, False]],  # 23 (P5/32-large)\n",
        "\n",
        "   [[17, 20, 23], 1, Detect, [nc, anchors]],  # Detect(P3, P4, P5)\n",
        "  ]"
      ],
      "metadata": {
        "id": "uh3a1ACkAwlS",
        "trusted": true,
        "execution": {
          "iopub.status.busy": "2025-02-08T10:58:19.579557Z",
          "iopub.execute_input": "2025-02-08T10:58:19.579943Z",
          "iopub.status.idle": "2025-02-08T10:58:19.584683Z",
          "shell.execute_reply.started": "2025-02-08T10:58:19.579913Z",
          "shell.execute_reply": "2025-02-08T10:58:19.583679Z"
        }
      },
      "outputs": [],
      "execution_count": null
    },
    {
      "cell_type": "markdown",
      "source": [
        "### **Train Custom YOLOv5 Detector**\n",
        "\n",
        "Next, we'll fire off training!\n",
        "\n",
        "Here, we are able to pass a number of arguments:\n",
        "\n",
        "**img:** define input image size\n",
        "\n",
        "**batch:** determine batch size\n",
        "\n",
        "**epochs:** define the number of training epochs. (Note: often, 3000+ are common here!)\n",
        "\n",
        "**data:** set the path to our yaml file\n",
        "\n",
        "**cfg:** specify our model configuration\n",
        "\n",
        "**weights:** specify a custom path to weights. (Note: you can download weights from the Ultralytics Google Drive folder)\n",
        "\n",
        "**name:** result names\n",
        "\n",
        "**nosave:** only save the final checkpoint\n",
        "\n",
        "**cache:** cache images for faster training"
      ],
      "metadata": {
        "id": "ljvdIFGFBQEF"
      }
    },
    {
      "cell_type": "code",
      "source": [
        "!ls /kaggle/working/yolov5/models/  # Check if 'custom_yolov5s.yaml' exists\n"
      ],
      "metadata": {
        "id": "BHHHbN9TC4zf",
        "trusted": true,
        "execution": {
          "iopub.status.busy": "2025-02-08T10:58:58.552908Z",
          "iopub.execute_input": "2025-02-08T10:58:58.55322Z",
          "iopub.status.idle": "2025-02-08T10:58:58.679209Z",
          "shell.execute_reply.started": "2025-02-08T10:58:58.553201Z",
          "shell.execute_reply": "2025-02-08T10:58:58.678373Z"
        }
      },
      "outputs": [],
      "execution_count": null
    },
    {
      "cell_type": "code",
      "source": [
        "!cp \"/kaggle/working/sign_language_dataset/data.yaml\" /kaggle/working\n",
        "!cp -r \"/kaggle/working/sign_language_dataset/valid\" /kaggle/working\n",
        "!cp -r \"/kaggle/working/sign_language_dataset/train\" /kaggle/working\n",
        "\n"
      ],
      "metadata": {
        "id": "FgVSu-QOHJBb",
        "trusted": true,
        "execution": {
          "iopub.status.busy": "2025-02-08T11:02:07.364483Z",
          "iopub.execute_input": "2025-02-08T11:02:07.364846Z",
          "iopub.status.idle": "2025-02-08T11:02:11.159905Z",
          "shell.execute_reply.started": "2025-02-08T11:02:07.364805Z",
          "shell.execute_reply": "2025-02-08T11:02:11.158723Z"
        }
      },
      "outputs": [],
      "execution_count": null
    },
    {
      "cell_type": "code",
      "source": [
        "!ls \"/kaggle/working/sign_language_dataset/\""
      ],
      "metadata": {
        "id": "BL5TJJRdKHh9",
        "trusted": true,
        "execution": {
          "iopub.status.busy": "2025-02-08T10:59:53.715775Z",
          "iopub.execute_input": "2025-02-08T10:59:53.716168Z",
          "iopub.status.idle": "2025-02-08T10:59:53.841405Z",
          "shell.execute_reply.started": "2025-02-08T10:59:53.71614Z",
          "shell.execute_reply": "2025-02-08T10:59:53.840304Z"
        }
      },
      "outputs": [],
      "execution_count": null
    },
    {
      "cell_type": "code",
      "source": [
        "!ls -l \"/content/sign_language_dataset/valid\"\n",
        "!ls -la \"/content/sign_language_dataset/valid\"\n"
      ],
      "metadata": {
        "id": "K-B8gCQALhGh"
      },
      "outputs": [],
      "execution_count": null
    },
    {
      "cell_type": "code",
      "source": [
        "!ls -l \"/content/sign_language_dataset/train\"\n",
        "!ls -la \"/content/sign_language_dataset/valid\""
      ],
      "metadata": {
        "id": "TvIMZD67M8N2"
      },
      "outputs": [],
      "execution_count": null
    },
    {
      "cell_type": "code",
      "source": [
        "import shutil\n",
        "\n",
        "#Define the source and destination paths\n",
        "source_path = '/content/sign_language_dataset/train'\n",
        "destination_path = '/content/'\n",
        "\n",
        "#Move the directory\n",
        "shutil.move(source_path, destination_path)\n",
        "\n",
        "print(f\"Directory moved from {source_path} to {destination_path}\")"
      ],
      "metadata": {
        "id": "I1DOoW3HT0U4"
      },
      "outputs": [],
      "execution_count": null
    },
    {
      "cell_type": "code",
      "source": [
        "!ls /kaggle/working/  # Check if 'data.yaml' is in the right place"
      ],
      "metadata": {
        "id": "QBK5sH1pGpRq",
        "trusted": true,
        "execution": {
          "iopub.status.busy": "2025-02-08T11:00:20.358115Z",
          "iopub.execute_input": "2025-02-08T11:00:20.358428Z",
          "iopub.status.idle": "2025-02-08T11:00:20.483234Z",
          "shell.execute_reply.started": "2025-02-08T11:00:20.358405Z",
          "shell.execute_reply": "2025-02-08T11:00:20.482376Z"
        }
      },
      "outputs": [],
      "execution_count": null
    },
    {
      "cell_type": "code",
      "source": [
        "%cd yolov5"
      ],
      "metadata": {
        "id": "miSrC3qnXguB",
        "trusted": true
      },
      "outputs": [],
      "execution_count": null
    },
    {
      "cell_type": "code",
      "source": [
        "# # time its performance\n",
        "%cd /kaggle/working/yolov5/\n",
        "!python train.py --img 512 --batch 64 --epochs 40 --data '../data.yaml' --cfg ./models/custom_yolov5s.yaml --weights 'yolov5s.pt' --name yolov5s_results --patience 10 --cache"
      ],
      "metadata": {
        "id": "xuA-Cw10A-y6",
        "trusted": true,
        "execution": {
          "iopub.status.busy": "2025-02-08T11:56:04.027684Z",
          "iopub.execute_input": "2025-02-08T11:56:04.028096Z",
          "iopub.status.idle": "2025-02-08T14:15:02.706295Z",
          "shell.execute_reply.started": "2025-02-08T11:56:04.028054Z",
          "shell.execute_reply": "2025-02-08T14:15:02.705191Z"
        }
      },
      "outputs": [],
      "execution_count": null
    },
    {
      "cell_type": "code",
      "source": [
        "import shutil\n",
        "shutil.make_archive(\"model\", 'zip', \"/runs/train/yolov5s_results4\")"
      ],
      "metadata": {
        "trusted": true,
        "execution": {
          "iopub.status.busy": "2025-02-08T14:18:57.357142Z",
          "iopub.execute_input": "2025-02-08T14:18:57.357516Z",
          "iopub.status.idle": "2025-02-08T14:18:57.363903Z",
          "shell.execute_reply.started": "2025-02-08T14:18:57.35747Z",
          "shell.execute_reply": "2025-02-08T14:18:57.363052Z"
        },
        "id": "0Mb2e--5OQgD"
      },
      "outputs": [],
      "execution_count": null
    },
    {
      "cell_type": "code",
      "source": [
        "\n",
        "# Start tensorboard\n",
        "# Launch after you have started training\n",
        "# logs save in the folder \"runs\"\n",
        "%load_ext tensorboard\n",
        "%tensorboard --logdir runs"
      ],
      "metadata": {
        "id": "Tcu7KP7nDndJ"
      },
      "outputs": [],
      "execution_count": null
    },
    {
      "cell_type": "code",
      "source": [
        "# we can also output some older school graphs if the tensor board isn't working for whatever reason...\n",
        "from utils.plots import plot_results  # plot results.txt as results.png\n",
        "Image(filename='/content/yolov5/runs/train/yolov5s_results/results.png', width=1000)  # view results.png\n"
      ],
      "metadata": {
        "id": "7gSbLWeAcOFp"
      },
      "outputs": [],
      "execution_count": null
    },
    {
      "cell_type": "code",
      "source": [
        "# print out an augmented training example\n",
        "print(\"GROUND TRUTH AUGMENTED TRAINING DATA:\")\n",
        "Image(filename='/content/yolov5/runs/train/yolov5s_results/train_batch0.jpg', width=900)"
      ],
      "metadata": {
        "id": "ONsH4N_McSl5"
      },
      "outputs": [],
      "execution_count": null
    },
    {
      "cell_type": "code",
      "source": [
        "\n",
        "# print out an augmented training example\n",
        "print(\"GROUND TRUTH AUGMENTED TRAINING DATA:\")\n",
        "Image(filename='/content/yolov5/runs/train/yolov5s_results/train_batch0.jpg', width=900)"
      ],
      "metadata": {
        "id": "CxGgYxEpcm-x"
      },
      "outputs": [],
      "execution_count": null
    },
    {
      "cell_type": "code",
      "source": [
        "# when we ran this, we saw .007 second inference time. That is 140 FPS on a TESLA P100!\n",
        "# use the best weights!\n",
        "%cd /content/yolov5/\n",
        "!python detect.py --weights runs/train/yolov5s_results/weights/best.pt --img 416 --conf 0.5 --source ../test/images\n"
      ],
      "metadata": {
        "id": "evehdxxUd7U3"
      },
      "outputs": [],
      "execution_count": null
    },
    {
      "cell_type": "code",
      "source": [],
      "metadata": {
        "id": "HdoibHr_d8E1"
      },
      "outputs": [],
      "execution_count": null
    }
  ]
}